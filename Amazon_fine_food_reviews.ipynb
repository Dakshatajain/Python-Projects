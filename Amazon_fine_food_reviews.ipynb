{
 "cells": [
  {
   "cell_type": "markdown",
   "metadata": {},
   "source": [
    "### Amazon Fine Food Reviews"
   ]
  },
  {
   "cell_type": "markdown",
   "metadata": {},
   "source": [
    "__Objective:__ \n",
    "\n",
    "The data for this project comes from a dataset posted on kaggle.com. We are using the data to explore text mining, feature engineering and build a model to identify which features make a review on amazon helpful. This will not only help amazon in positioning their reviews in a way that improves customer's purchasing decision but also serve as a guide to writing helpful reviews.\n",
    "\n",
    "To do so, we will work on the recommendation dataset to encode the text data using Bag of Words and count vectorization. When the data is ready, we will run a logistic regression model to find the most important features. \n"
   ]
  },
  {
   "cell_type": "markdown",
   "metadata": {},
   "source": [
    "__Data Overview:__ \n",
    "\n",
    "The dataset consists of ~500,00 reviews of fine foods from amazon. The data span a period of more than 10 years. \n",
    "Reviews include the following:\n",
    "\n",
    "Variable: Description || Type of Variable\n",
    "* ProductId: Unique id of the product being reviewed || string\n",
    "* ProfileName: Profile name of the user || string\n",
    "* HelpfulnessNumerator: number of users who found the review helpful || continuous\n",
    "* HelpfulnessDenominator: number of users who indicated whether they found the review helpful or not helpful || continuous\n",
    "* Score: rating between 1 and 5 || categorical\n",
    "* Summary : Brief summary of the review || text\n",
    "* Text: text of the review || text"
   ]
  },
  {
   "cell_type": "markdown",
   "metadata": {},
   "source": [
    "__Analysis Approach:__\n",
    "\n",
    "* I. Understanding the data \n",
    "* II. Data Cleaning \n",
    "* III. Feature Engineering :\n",
    "    * Length of reviews\n",
    "    * Words as features\n",
    "        * Lemmatization and Stemming\n",
    "        * Bag of Words \n",
    "        * Bigram \n",
    "    * Score as dummy variables\n",
    "* IV. Preparing X and Y for model building**\n",
    "* V. Model building - Logit, Logistics Regression, Gridsearch Logistics**\n",
    "* VI. Interpretation\n",
    "* VII. Finding and validation of finding\n",
    "* VIII. Managerial Insights"
   ]
  },
  {
   "cell_type": "markdown",
   "metadata": {},
   "source": [
    "** - Repeating step 4 and 5 for both bag of words (each word as a feature) and bigrams (single word as well as combination of two words). This is because in BOW it doesnt consider related words. For example, if we consider two reviews __This pasta is very tasty__ and __This pasta is not tasty__ after stopwords removal both sentences will be converted to pasta tasty so both giving exact same meaning.The main problem is here we are not considering the front and back words related to every word. So we use Bigram which will consider pair of words"
   ]
  },
  {
   "cell_type": "markdown",
   "metadata": {},
   "source": [
    "Printing the output"
   ]
  },
  {
   "cell_type": "code",
   "execution_count": 51,
   "metadata": {},
   "outputs": [],
   "source": [
    "# print all the outputs in a cell\n",
    "from IPython.core.interactiveshell import InteractiveShell\n",
    "InteractiveShell.ast_node_interactivity = \"all\"\n",
    "\n",
    "import pandas as pd\n",
    "pd.set_option('precision', 2) # show only two decimal digits"
   ]
  },
  {
   "cell_type": "markdown",
   "metadata": {},
   "source": [
    "Importing required packages:"
   ]
  },
  {
   "cell_type": "code",
   "execution_count": 52,
   "metadata": {},
   "outputs": [
    {
     "name": "stderr",
     "output_type": "stream",
     "text": [
      "[nltk_data] Downloading package stopwords to\n",
      "[nltk_data]     /Users/dakshatajain/nltk_data...\n",
      "[nltk_data]   Package stopwords is already up-to-date!\n"
     ]
    },
    {
     "data": {
      "text/plain": [
       "True"
      ]
     },
     "execution_count": 52,
     "metadata": {},
     "output_type": "execute_result"
    },
    {
     "name": "stderr",
     "output_type": "stream",
     "text": [
      "[nltk_data] Downloading package wordnet to\n",
      "[nltk_data]     /Users/dakshatajain/nltk_data...\n",
      "[nltk_data]   Package wordnet is already up-to-date!\n"
     ]
    },
    {
     "data": {
      "text/plain": [
       "True"
      ]
     },
     "execution_count": 52,
     "metadata": {},
     "output_type": "execute_result"
    }
   ],
   "source": [
    "import warnings\n",
    "warnings.filterwarnings(\"ignore\")                                   #Ignoring unnecessory warnings\n",
    "\n",
    "import numpy as np                                                  #for large and multi-dimensional arrays                               #for data manipulation and analysis\n",
    "import nltk \n",
    "nltk.download('stopwords')                                          #Natural language processing tool-kit\n",
    "nltk.download('wordnet')\n",
    "from nltk.corpus import stopwords                                   #Stopwords \n",
    "from nltk.stem import PorterStemmer                                 # Stemmer\n",
    "from nltk.stem import WordNetLemmatizer                             # Lemmatizer\n",
    "\n",
    "from sklearn.feature_extraction.text import CountVectorizer          #For Bag of words\n",
    "import sklearn as sk\n",
    "import sklearn.tree as tree\n",
    "from sklearn.model_selection import GridSearchCV\n",
    "from sklearn.metrics import confusion_matrix\n",
    "from sklearn.linear_model import LogisticRegression\n",
    "from sklearn.model_selection import train_test_split\n",
    "\n",
    "from IPython.display import Image  \n",
    "import pydotplus\n",
    "import mglearn\n",
    "import statsmodels.api as sm\n",
    "import seaborn as sns\n",
    "import matplotlib.pyplot as plt"
   ]
  },
  {
   "cell_type": "code",
   "execution_count": 53,
   "metadata": {},
   "outputs": [],
   "source": [
    "plt.rcParams['figure.figsize'] = 10,6"
   ]
  },
  {
   "cell_type": "markdown",
   "metadata": {},
   "source": [
    "__I. UNDERSTANDING THE DATA__:\n",
    "\n",
    "Reading the file:"
   ]
  },
  {
   "cell_type": "code",
   "execution_count": 54,
   "metadata": {},
   "outputs": [],
   "source": [
    "df = pd.read_csv('Reviews.csv')"
   ]
  },
  {
   "cell_type": "code",
   "execution_count": 55,
   "metadata": {},
   "outputs": [
    {
     "data": {
      "text/html": [
       "<div>\n",
       "<style scoped>\n",
       "    .dataframe tbody tr th:only-of-type {\n",
       "        vertical-align: middle;\n",
       "    }\n",
       "\n",
       "    .dataframe tbody tr th {\n",
       "        vertical-align: top;\n",
       "    }\n",
       "\n",
       "    .dataframe thead th {\n",
       "        text-align: right;\n",
       "    }\n",
       "</style>\n",
       "<table border=\"1\" class=\"dataframe\">\n",
       "  <thead>\n",
       "    <tr style=\"text-align: right;\">\n",
       "      <th></th>\n",
       "      <th>ProductId</th>\n",
       "      <th>ProfileName</th>\n",
       "      <th>Text</th>\n",
       "      <th>Score</th>\n",
       "      <th>HelpfulnessNumerator</th>\n",
       "      <th>HelpfulnessDenominator</th>\n",
       "    </tr>\n",
       "  </thead>\n",
       "  <tbody>\n",
       "    <tr>\n",
       "      <th>0</th>\n",
       "      <td>B001E4KFG0</td>\n",
       "      <td>delmartian</td>\n",
       "      <td>I have bought several of the Vitality canned d...</td>\n",
       "      <td>5</td>\n",
       "      <td>1</td>\n",
       "      <td>1</td>\n",
       "    </tr>\n",
       "    <tr>\n",
       "      <th>1</th>\n",
       "      <td>B00813GRG4</td>\n",
       "      <td>dll pa</td>\n",
       "      <td>Product arrived labeled as Jumbo Salted Peanut...</td>\n",
       "      <td>1</td>\n",
       "      <td>0</td>\n",
       "      <td>0</td>\n",
       "    </tr>\n",
       "  </tbody>\n",
       "</table>\n",
       "</div>"
      ],
      "text/plain": [
       "    ProductId ProfileName                                               Text  \\\n",
       "0  B001E4KFG0  delmartian  I have bought several of the Vitality canned d...   \n",
       "1  B00813GRG4      dll pa  Product arrived labeled as Jumbo Salted Peanut...   \n",
       "\n",
       "   Score  HelpfulnessNumerator  HelpfulnessDenominator  \n",
       "0      5                     1                       1  \n",
       "1      1                     0                       0  "
      ]
     },
     "execution_count": 55,
     "metadata": {},
     "output_type": "execute_result"
    }
   ],
   "source": [
    "df.loc[:,['ProductId','ProfileName','Text','Score','HelpfulnessNumerator','HelpfulnessDenominator']].head(2)"
   ]
  },
  {
   "cell_type": "markdown",
   "metadata": {},
   "source": [
    "__Creating the subset:__ \n",
    "For the purpose of this analysis, we are considering the reviews which have been voted (i.e. helpful or not) for atleast 10 times. "
   ]
  },
  {
   "cell_type": "code",
   "execution_count": 56,
   "metadata": {},
   "outputs": [],
   "source": [
    "df_subset1 = df[(df.HelpfulnessDenominator > 10)]"
   ]
  },
  {
   "cell_type": "markdown",
   "metadata": {},
   "source": [
    "__Creating Y variable: (Useful)__\n",
    "We wanted to create a binary variable that will indicate whether a particular review was useful or not. In order to so we followed the following approach:\n",
    "   1. Step 1: Compute the helpfulness i.e. fraction of total users that found the review helpful for each review as follows: \n",
    "        $$\n",
    "         \\frac{\\#HelpfulnessNumerator }{\\#HelpfulnessDenominator} \n",
    "        $$ \n",
    "   2. Step 2: \n",
    "       * Decide the threshold to create the useful variable. In order to do this, we inspected the distribution of data and observed that ~80% of the dataset had helpfulness greater than 50%. That is we cannot take 50% as the threshold.\n",
    "       * In order to avoid creating an imbalanced dataset, we decided to subset the data by taking only __black and white__ areas. We filtered the records which have helpfulness as __1 - these will be the helpful reviews__ and helpfulness of __less than 0.4 - these will be the not helpful reviews__ "
   ]
  },
  {
   "cell_type": "markdown",
   "metadata": {},
   "source": [
    "After creating the subset: \n",
    "   * length of data - 8853\n",
    "   * Records with helpful reviews (Useful = 1) - 5520 \n",
    "   * Records with not helpful reviews (Useful = 0) - 3333"
   ]
  },
  {
   "cell_type": "code",
   "execution_count": 57,
   "metadata": {},
   "outputs": [],
   "source": [
    "#Creating Helpfulness percentage:\n",
    "df_subset1['helpfulness'] = (df.HelpfulnessNumerator / df.HelpfulnessDenominator)"
   ]
  },
  {
   "cell_type": "code",
   "execution_count": 58,
   "metadata": {},
   "outputs": [],
   "source": [
    "#Subsetting further by taking only highly helpful (Perc_helfulness==1) and not at all helpful (Perc_helfulness<0.3):\n",
    "df_subset2 = df_subset1[(df_subset1.helpfulness <= 0.4) | (df_subset1.helpfulness == 1)]\n",
    "\n",
    "#Creating a dummy variable based on above which defines helpfulness:\n",
    "df_subset2['Useful'] = (df_subset1.helpfulness == 1) * 1"
   ]
  },
  {
   "cell_type": "markdown",
   "metadata": {},
   "source": [
    "__II. DATA CLEANING:__"
   ]
  },
  {
   "cell_type": "markdown",
   "metadata": {},
   "source": [
    "__Cleaning the data by removing duplicates:__"
   ]
  },
  {
   "cell_type": "code",
   "execution_count": 59,
   "metadata": {
    "scrolled": true
   },
   "outputs": [
    {
     "data": {
      "text/plain": [
       "2475"
      ]
     },
     "execution_count": 59,
     "metadata": {},
     "output_type": "execute_result"
    }
   ],
   "source": [
    "# Identifying number of duplicates:\n",
    "len(df_subset2) - len(df_subset2.groupby(['UserId','Text','ProfileName','Time'])) \n",
    "\n",
    "#Removing duplicates:\n",
    "df1 = df_subset2.drop_duplicates(subset={\"UserId\",\"ProfileName\",\"Time\",\"Text\"})"
   ]
  },
  {
   "cell_type": "markdown",
   "metadata": {},
   "source": [
    "__III. FEATURE ENGINEERING:__"
   ]
  },
  {
   "cell_type": "markdown",
   "metadata": {},
   "source": [
    "__Feature 1. Length of the review__: The total length of review might impact the reader's interest in reading the review and hence impact its usefulness. The length of review has been computed by counting the number of words in a review."
   ]
  },
  {
   "cell_type": "code",
   "execution_count": 60,
   "metadata": {},
   "outputs": [],
   "source": [
    "df_subset2['Comment_Len']= df_subset2['Text'].apply(lambda x: len(str(x).split(' ')))"
   ]
  },
  {
   "cell_type": "markdown",
   "metadata": {},
   "source": [
    "__Feature 2: Words in reviews:__ (Text cleaning and features)"
   ]
  },
  {
   "cell_type": "markdown",
   "metadata": {},
   "source": [
    "__Step 1:__ Removing stop words (most commonly used english words like and, are, am, you etc.) from the reviews as we are interested only in the important words used in the reviews which might impact its usefulness. "
   ]
  },
  {
   "cell_type": "markdown",
   "metadata": {},
   "source": [
    "#### Creating a list for stopwords:"
   ]
  },
  {
   "cell_type": "code",
   "execution_count": 61,
   "metadata": {},
   "outputs": [
    {
     "name": "stdout",
     "output_type": "stream",
     "text": [
      "{'theirs', 'were', 'whom', 'you', 'mightn', 'in', 'until', 'ain', 'against', 'yours', 'down', 'weren', \"weren't\", 'own', 'she', 'than', 'just', 'themselves', 'being', 'those', 'do', 'both', 'because', 'off', 'no', 'herself', 'very', 't', 'at', 's', 'after', \"mustn't\", 'is', 'these', 'itself', 'isn', \"should've\", 'as', 'now', 'haven', 'again', 'shouldn', \"won't\", 'few', 'once', 'which', 'll', 'over', 'wasn', 'nor', 'our', \"you'll\", \"doesn't\", 'into', 'what', 'during', 'that', 'not', 'don', 'hasn', 'when', 'there', 'some', 'been', 'have', 'ma', 'this', 'him', 'hers', 'above', 'only', \"mightn't\", \"wouldn't\", \"that'll\", 'so', 'having', 'her', 'mustn', 'was', 'his', 'below', 'out', 'wouldn', 'between', 'has', 'couldn', 'o', 'here', 'how', \"you've\", 'will', \"wasn't\", 'ourselves', \"it's\", 'they', 'aren', 'does', 'of', 'be', 'yourself', 'by', 'from', 'ours', 'other', \"aren't\", \"haven't\", 'any', 'won', 'further', 'same', 'each', 'for', \"isn't\", 'himself', \"don't\", 'such', \"she's\", 'd', 'my', 'all', 've', 'too', \"shouldn't\", 'can', 'should', 'he', 'them', 'it', 'about', 'yourselves', 'with', 'shan', 'why', 'i', 'their', 'but', \"didn't\", 'm', 'where', 'under', 'before', \"hasn't\", 'doing', \"needn't\", \"shan't\", 'did', 'to', 're', 'and', \"couldn't\", 'up', \"you're\", 'had', \"hadn't\", 'who', 'needn', 'we', 'through', 'most', 'on', 'doesn', 'an', 'am', 'myself', 'are', 'a', 'more', 'if', 'the', 'me', 'while', 'y', \"you'd\", 'your', 'its', 'hadn', 'then', 'didn', 'or'}\n"
     ]
    }
   ],
   "source": [
    "#Removing stopwords:\n",
    "stop = set(stopwords.words('english')) \n",
    "print(stop)"
   ]
  },
  {
   "cell_type": "code",
   "execution_count": 62,
   "metadata": {},
   "outputs": [],
   "source": [
    "#Updating the stopwords by not including words like NOt which are important:\n",
    "stop_upd = {'here','just', 'before', 'other','whom', 'once', 'further', 'now', 'where',\\\n",
    "            'of', 'below', 'it', 'was','themselves', 't', 'been', 'a', 'had', \\\n",
    "            'when', 'those', 'is', 'your', 'out', \"that'll\",'he', 'have', 'yourself', \\\n",
    "            'more', 'what', 'which', \"she's\",'why', 'ours', \"you'll\", 'they', 've', \\\n",
    "            'after', 'we', 'be', 'being', 'off', 'herself', 'mightn', 'she', 'were', \\\n",
    "            'because', 'for', 'over', 'him', 'the','by','can', 'my', 'haven', 'are', 'd', \\\n",
    "            'and','itself', 'or', 'again', 'them','each', 'theirs', 'these', 'if', 're', \\\n",
    "            'does', 'do', 'than', 'am', 'from', 'only', 'about','in',\"it's\",'ma','any',  \\\n",
    "            'ourselves', 'some','through', 'ain','such','shan', 'their', 'into','did', 'yours',\\\n",
    "            'up', 'with', 'himself', 'on', 'her', 'm', 'our', 'll', 'under',  \"you'd\", 'won', 'hers',\\\n",
    "            'then', 'how', 'so', 'i', \"you've\", 'down', 'that', 'both', 'you', 'there', 'as', 'during', \\\n",
    "            'all', 'own', 'myself', 'above', 'to', 'same', 's', 'but', 'this', 'yourselves', 'his', \\\n",
    "            'until', 'doing', 'who', 'o', 'between', 'at', 'having', 'has', 'y', 'its', 'an', \"you're\", 'me', 'while'}"
   ]
  },
  {
   "cell_type": "markdown",
   "metadata": {},
   "source": [
    "__Step 2__: Once the stop words are removed, we convert the words to its root form. This can be achieved using one of the two approaches:\n",
    "  1. Stemming: converting the words to their pseudo root form. Eg: preparation, preparing becomes 'prepar'.\n",
    "  2. Lemmatization : converting words to their root word which is an actual language word. Eg: preparation, preparing becomes 'prepare'. \n",
    "\n",
    "You may read in detail about stemming and lemmatization [here]\n",
    "  \n",
    "[here]:https://towardsdatascience.com/stemming-lemmatization-what-ba782b7c0bd8"
   ]
  },
  {
   "cell_type": "markdown",
   "metadata": {},
   "source": [
    "__1. Stemming__:"
   ]
  },
  {
   "cell_type": "code",
   "execution_count": 63,
   "metadata": {},
   "outputs": [],
   "source": [
    "# Reassigning to df2\n",
    "df2= df1[~df1.Summary.isna()]\n",
    "\n",
    "#Cleaning Using Lemmatization:\n",
    "temp = []\n",
    "wordnet_stemmer = PorterStemmer()\n",
    "\n",
    "for sentence in df2.Text:\n",
    "    sentence = sentence.lower()                          # Converting to lowercase\n",
    "    cleanr   = re.compile('<.*?>')                      \n",
    "    sentence = re.sub(cleanr, ' ', sentence)             #Removing HTML tags   \n",
    "    sentence = re.sub('[^a-z ]+',r'',sentence)          #Removing Punctuations, Numbers\n",
    "    \n",
    "    words = [wordnet_stemmer.stem(word) for word in sentence.split() if word not in stop_upd]   # Lemmatizing and removing stopwords\n",
    "    temp.append(words)\n",
    "        \n",
    "X_initial = temp            "
   ]
  },
  {
   "cell_type": "code",
   "execution_count": 64,
   "metadata": {},
   "outputs": [
    {
     "name": "stdout",
     "output_type": "stream",
     "text": [
      " mccann instant oatmeal great must oatmeal scrape togeth two three minut prepar no escap fact howev even best instant oatmeal nowher near good even store brand oatmeal requir stovetop prepar still mccann good get instant oatmeal even better organ allnatur brand tri varieti mccann varieti pack tast good prepar microwav ad boil water conveni extrem time issu mccann use actual cane sugar instead high fructos corn syrup help decid buy product real sugar tast better not harm stuff one thing not like though mccann use thicken oat plu water plu heat should make creami tasti oatmeal without need guar gum conveni product mayb guar gum sit bowl instant mccann becom too thick gluey\n"
     ]
    }
   ],
   "source": [
    "#Removing quotes from words:\n",
    "list_words = []\n",
    "for row in X_initial:\n",
    "    s1 = ''\n",
    "    for word in row:\n",
    "        s1 = s1 + ' ' + word\n",
    "    list_words.append(s1)\n",
    "\n",
    "X_initial = list_words\n",
    "print(X_initial[0])"
   ]
  },
  {
   "cell_type": "markdown",
   "metadata": {},
   "source": [
    "__2. Lemmatization:__ "
   ]
  },
  {
   "cell_type": "code",
   "execution_count": 65,
   "metadata": {},
   "outputs": [],
   "source": [
    "# Reassigning to df2\n",
    "df2= df1[~df1.Summary.isna()]\n",
    "\n",
    "#Cleaning Using Lemmatization:\n",
    "temp = []\n",
    "wordnet_lemmatizer = WordNetLemmatizer()\n",
    "\n",
    "for sentence in df2.Text:\n",
    "    sentence = sentence.lower()                          # Converting to lowercase\n",
    "    cleanr   = re.compile('<.*?>')                      \n",
    "    sentence = re.sub(cleanr, ' ', sentence)             #Removing HTML tags   \n",
    "    sentence = re.sub('[^a-z ]+',r'',sentence)          #Removing Punctuations, Numbers\n",
    "    \n",
    "    words = [wordnet_lemmatizer.lemmatize(word,pos='v') for word in sentence.split() if word not in stop_upd]   # Lemmatizing and removing stopwords\n",
    "    temp.append(words)\n",
    "        \n",
    "X_initial = temp            "
   ]
  },
  {
   "cell_type": "code",
   "execution_count": 66,
   "metadata": {
    "scrolled": true
   },
   "outputs": [
    {
     "name": "stdout",
     "output_type": "stream",
     "text": [
      " mccanns instant oatmeal great must oatmeal scrape together two three minutes prepare no escape fact however even best instant oatmeal nowhere near good even store brand oatmeal require stovetop preparation still mccanns good get instant oatmeal even better organic allnatural brand try varieties mccanns variety pack taste good prepare microwave add boil water convenient extreme time issue mccanns use actual cane sugar instead high fructose corn syrup help decide buy product real sugar taste better not harmful stuff one thing not like though mccanns use thickeners oats plus water plus heat should make creamy tasty oatmeal without need guar gum convenience product maybe guar gum sit bowl instant mccanns become too thick gluey\n"
     ]
    }
   ],
   "source": [
    "#Removing quotes from words:\n",
    "list_words = []\n",
    "for row in X_initial:\n",
    "    s1 = ''\n",
    "    for word in row:\n",
    "        s1 = s1 + ' ' + word\n",
    "    list_words.append(s1)\n",
    "\n",
    "X_initial = list_words\n",
    "print(X_initial[0])"
   ]
  },
  {
   "cell_type": "markdown",
   "metadata": {},
   "source": [
    "__Step 3:__ Creating vectors for words in reviews. This means that each word becomes a column with the value equal to number of times that word appears in that review. In order to so, we will use single matrix bag of words technique."
   ]
  },
  {
   "cell_type": "markdown",
   "metadata": {},
   "source": [
    "__Bag of Words:__"
   ]
  },
  {
   "cell_type": "code",
   "execution_count": 67,
   "metadata": {},
   "outputs": [],
   "source": [
    "#matrix of words \n",
    "count_vect = CountVectorizer(max_features=1000,min_df=30)\n",
    "text_matrix = count_vect.fit_transform(X_initial)"
   ]
  },
  {
   "cell_type": "code",
   "execution_count": 68,
   "metadata": {},
   "outputs": [],
   "source": [
    "#Converting its output in df:\n",
    "text_vect = pd.DataFrame(text_matrix.todense(), columns=count_vect.get_feature_names())"
   ]
  },
  {
   "cell_type": "code",
   "execution_count": 69,
   "metadata": {},
   "outputs": [],
   "source": [
    "#Merging the two dataframes:\n",
    "df2.index = text_vect.index\n",
    "df_text = pd.merge(df2, text_vect, left_index=True, right_index=True)"
   ]
  },
  {
   "cell_type": "markdown",
   "metadata": {},
   "source": [
    "__Feature 3: Score__ Converting score (1-5) into dummy variables because we want to evaluate the impact of each of the score independently."
   ]
  },
  {
   "cell_type": "code",
   "execution_count": 70,
   "metadata": {},
   "outputs": [],
   "source": [
    "#Converting score column to dummies:\n",
    "df_text = pd.get_dummies(df_text,columns=['Score'])"
   ]
  },
  {
   "cell_type": "markdown",
   "metadata": {},
   "source": [
    "__IV. PREPARING X AND Y FOR MODEL BUILDING:__"
   ]
  },
  {
   "cell_type": "code",
   "execution_count": 71,
   "metadata": {},
   "outputs": [],
   "source": [
    "#Creating X and Y\n",
    "X_text = df_text.drop(columns=['Id','ProductId','UserId','ProfileName','HelpfulnessNumerator',\\\n",
    "                    'HelpfulnessDenominator','Time','Summary','Text','Useful','helpfulness'])\n",
    "Y_text = df_text.Useful"
   ]
  },
  {
   "cell_type": "code",
   "execution_count": 72,
   "metadata": {},
   "outputs": [],
   "source": [
    "X_train,X_test,Y_train,Y_test = train_test_split(X_text,Y_text,test_size = 0.3,random_state=0)"
   ]
  },
  {
   "cell_type": "markdown",
   "metadata": {},
   "source": [
    "__V. MODEL BUILDING__: We run the models to test the significance of coefficients. We started with logit model that will let us know if a feature (word) is significant or not "
   ]
  },
  {
   "cell_type": "markdown",
   "metadata": {},
   "source": [
    "__1. Logit Model:__"
   ]
  },
  {
   "cell_type": "code",
   "execution_count": 73,
   "metadata": {},
   "outputs": [
    {
     "name": "stdout",
     "output_type": "stream",
     "text": [
      "Optimization terminated successfully.\n",
      "         Current function value: 0.176329\n",
      "         Iterations 11\n"
     ]
    }
   ],
   "source": [
    "logit_model=sm.Logit(Y_text,X_text)\n",
    "result=logit_model.fit(maxiter=10000)\n",
    "#result.summary2()"
   ]
  },
  {
   "cell_type": "markdown",
   "metadata": {},
   "source": [
    "__2. Logistics Regression:__"
   ]
  },
  {
   "cell_type": "code",
   "execution_count": 74,
   "metadata": {},
   "outputs": [],
   "source": [
    "logreg = LogisticRegression(C=1e5)\n",
    "logreg_result = logreg.fit(X_train, Y_train)\n",
    "y_pred=logreg.predict(X_test)"
   ]
  },
  {
   "cell_type": "code",
   "execution_count": 75,
   "metadata": {},
   "outputs": [
    {
     "data": {
      "text/html": [
       "<div>\n",
       "<style scoped>\n",
       "    .dataframe tbody tr th:only-of-type {\n",
       "        vertical-align: middle;\n",
       "    }\n",
       "\n",
       "    .dataframe tbody tr th {\n",
       "        vertical-align: top;\n",
       "    }\n",
       "\n",
       "    .dataframe thead th {\n",
       "        text-align: right;\n",
       "    }\n",
       "</style>\n",
       "<table border=\"1\" class=\"dataframe\">\n",
       "  <thead>\n",
       "    <tr style=\"text-align: right;\">\n",
       "      <th></th>\n",
       "      <th>feature</th>\n",
       "      <th>coef</th>\n",
       "    </tr>\n",
       "  </thead>\n",
       "  <tbody>\n",
       "    <tr>\n",
       "      <th>141</th>\n",
       "      <td>chemicals</td>\n",
       "      <td>-8.07</td>\n",
       "    </tr>\n",
       "    <tr>\n",
       "      <th>108</th>\n",
       "      <td>bunch</td>\n",
       "      <td>-7.59</td>\n",
       "    </tr>\n",
       "    <tr>\n",
       "      <th>642</th>\n",
       "      <td>possible</td>\n",
       "      <td>-7.54</td>\n",
       "    </tr>\n",
       "    <tr>\n",
       "      <th>1001</th>\n",
       "      <td>Score_2</td>\n",
       "      <td>-7.10</td>\n",
       "    </tr>\n",
       "    <tr>\n",
       "      <th>633</th>\n",
       "      <td>play</td>\n",
       "      <td>-7.08</td>\n",
       "    </tr>\n",
       "  </tbody>\n",
       "</table>\n",
       "</div>"
      ],
      "text/plain": [
       "        feature  coef\n",
       "141   chemicals -8.07\n",
       "108       bunch -7.59\n",
       "642    possible -7.54\n",
       "1001    Score_2 -7.10\n",
       "633        play -7.08"
      ]
     },
     "execution_count": 75,
     "metadata": {},
     "output_type": "execute_result"
    }
   ],
   "source": [
    "#Getting the log reg coefficients:\n",
    "#words = count_vect.get_feature_names()\n",
    "feature_coefs = pd.DataFrame( data = list(zip(X_text.columns, logreg_result.coef_[0])),columns = ['feature', 'coef']) \n",
    "feature_coefs.sort_values(by='coef').head(5)"
   ]
  },
  {
   "cell_type": "code",
   "execution_count": 76,
   "metadata": {},
   "outputs": [
    {
     "data": {
      "text/html": [
       "<div>\n",
       "<style scoped>\n",
       "    .dataframe tbody tr th:only-of-type {\n",
       "        vertical-align: middle;\n",
       "    }\n",
       "\n",
       "    .dataframe tbody tr th {\n",
       "        vertical-align: top;\n",
       "    }\n",
       "\n",
       "    .dataframe thead th {\n",
       "        text-align: right;\n",
       "    }\n",
       "</style>\n",
       "<table border=\"1\" class=\"dataframe\">\n",
       "  <thead>\n",
       "    <tr style=\"text-align: right;\">\n",
       "      <th></th>\n",
       "      <th>feature</th>\n",
       "      <th>coef</th>\n",
       "    </tr>\n",
       "  </thead>\n",
       "  <tbody>\n",
       "    <tr>\n",
       "      <th>710</th>\n",
       "      <td>rinse</td>\n",
       "      <td>12.12</td>\n",
       "    </tr>\n",
       "    <tr>\n",
       "      <th>864</th>\n",
       "      <td>tend</td>\n",
       "      <td>12.51</td>\n",
       "    </tr>\n",
       "    <tr>\n",
       "      <th>699</th>\n",
       "      <td>require</td>\n",
       "      <td>13.24</td>\n",
       "    </tr>\n",
       "    <tr>\n",
       "      <th>175</th>\n",
       "      <td>concentrate</td>\n",
       "      <td>15.43</td>\n",
       "    </tr>\n",
       "    <tr>\n",
       "      <th>544</th>\n",
       "      <td>mushroom</td>\n",
       "      <td>17.80</td>\n",
       "    </tr>\n",
       "  </tbody>\n",
       "</table>\n",
       "</div>"
      ],
      "text/plain": [
       "         feature   coef\n",
       "710        rinse  12.12\n",
       "864         tend  12.51\n",
       "699      require  13.24\n",
       "175  concentrate  15.43\n",
       "544     mushroom  17.80"
      ]
     },
     "execution_count": 76,
     "metadata": {},
     "output_type": "execute_result"
    }
   ],
   "source": [
    "feature_coefs.sort_values(by='coef').tail(5)"
   ]
  },
  {
   "cell_type": "markdown",
   "metadata": {},
   "source": [
    "Optional: Predicting on test dataset"
   ]
  },
  {
   "cell_type": "code",
   "execution_count": 77,
   "metadata": {},
   "outputs": [
    {
     "data": {
      "text/plain": [
       "array([[511, 191],\n",
       "       [222, 990]])"
      ]
     },
     "execution_count": 77,
     "metadata": {},
     "output_type": "execute_result"
    }
   ],
   "source": [
    "confusion_matrix(Y_test,y_pred)"
   ]
  },
  {
   "cell_type": "code",
   "execution_count": 78,
   "metadata": {},
   "outputs": [
    {
     "data": {
      "text/plain": [
       "0.7842215256008359"
      ]
     },
     "execution_count": 78,
     "metadata": {},
     "output_type": "execute_result"
    }
   ],
   "source": [
    "# Accuracy:\n",
    "1 - (y_pred - Y_test ).abs().mean()"
   ]
  },
  {
   "cell_type": "markdown",
   "metadata": {},
   "source": [
    "__3. Gridsearch CV logistics method to find the top 25 features:__"
   ]
  },
  {
   "cell_type": "code",
   "execution_count": 79,
   "metadata": {},
   "outputs": [
    {
     "data": {
      "text/plain": [
       "GridSearchCV(cv=5, error_score='raise-deprecating',\n",
       "       estimator=LogisticRegression(C=1.0, class_weight=None, dual=False, fit_intercept=True,\n",
       "          intercept_scaling=1, max_iter=100, multi_class='warn',\n",
       "          n_jobs=None, penalty='l2', random_state=None, solver='warn',\n",
       "          tol=0.0001, verbose=0, warm_start=False),\n",
       "       fit_params=None, iid='warn', n_jobs=None,\n",
       "       param_grid={'C': [0.001, 0.01, 0.1, 1, 10]},\n",
       "       pre_dispatch='2*n_jobs', refit=True, return_train_score='warn',\n",
       "       scoring=None, verbose=0)"
      ]
     },
     "execution_count": 79,
     "metadata": {},
     "output_type": "execute_result"
    },
    {
     "name": "stdout",
     "output_type": "stream",
     "text": [
      "Best cross-validation score: 0.88\n",
      "Best parameters:  {'C': 0.1}\n",
      "Best estimator:  LogisticRegression(C=0.1, class_weight=None, dual=False, fit_intercept=True,\n",
      "          intercept_scaling=1, max_iter=100, multi_class='warn',\n",
      "          n_jobs=None, penalty='l2', random_state=None, solver='warn',\n",
      "          tol=0.0001, verbose=0, warm_start=False)\n"
     ]
    },
    {
     "data": {
      "image/png": "[encoded data removed]",
      "text/plain": [
       "<Figure size 1080x360 with 1 Axes>"
      ]
     },
     "metadata": {
      "needs_background": "light"
     },
     "output_type": "display_data"
    }
   ],
   "source": [
    "param_grid = {'C': [0.001, 0.01, 0.1, 1, 10]}\n",
    "grid = GridSearchCV(LogisticRegression(), param_grid, cv=5)\n",
    "grid.fit(X_train, Y_train)\n",
    "\n",
    "print(\"Best cross-validation score: {:.2f}\".format(grid.best_score_))\n",
    "print(\"Best parameters: \", grid.best_params_)\n",
    "print(\"Best estimator: \", grid.best_estimator_)\n",
    "\n",
    "mglearn.tools.visualize_coefficients(grid.best_estimator_.coef_, X_test.columns, n_top_features=25)\n",
    "plt.show()"
   ]
  },
  {
   "cell_type": "markdown",
   "metadata": {},
   "source": [
    "__REPEATING STEP IV and V FOR BIGRAM:__"
   ]
  },
  {
   "cell_type": "markdown",
   "metadata": {},
   "source": [
    "__Bigram :__ As mentioned earlier in case of reviews it is important to consider front and back related words to extract whether the review was positive or negative."
   ]
  },
  {
   "cell_type": "code",
   "execution_count": 80,
   "metadata": {},
   "outputs": [],
   "source": [
    "#Reassigning:\n",
    "Final_X = X_initial "
   ]
  },
  {
   "cell_type": "code",
   "execution_count": 81,
   "metadata": {},
   "outputs": [
    {
     "name": "stdout",
     "output_type": "stream",
     "text": [
      "  (0, 283)\t1\n",
      "  (0, 2595)\t1\n",
      "  (0, 118)\t1\n",
      "  (0, 931)\t1\n",
      "  (0, 2535)\t1\n",
      "  (0, 20)\t1\n",
      "  (0, 2104)\t1\n",
      "  (0, 281)\t1\n",
      "  (0, 1517)\t1\n",
      "  (0, 419)\t1\n",
      "  (0, 124)\t1\n",
      "  (0, 568)\t1\n",
      "  (0, 682)\t2\n",
      "  (0, 1597)\t1\n",
      "  (0, 449)\t1\n",
      "  (0, 973)\t1\n",
      "  (0, 2191)\t1\n",
      "  (0, 673)\t2\n",
      "  (0, 2482)\t1\n",
      "  (0, 509)\t1\n",
      "  (0, 335)\t1\n",
      "  (0, 2615)\t1\n",
      "  (0, 1487)\t1\n",
      "  (0, 1902)\t1\n",
      "  (0, 1745)\t1\n",
      "  (0, 1678)\t1\n",
      "  (0, 2486)\t1\n",
      "  (0, 508)\t1\n",
      "  (0, 1181)\t1\n",
      "  (0, 1290)\t1\n",
      "  (0, 2445)\t3\n",
      "  (0, 334)\t1\n",
      "  (0, 2711)\t1\n",
      "  (0, 2590)\t1\n",
      "  (0, 212)\t2\n",
      "  (0, 2122)\t1\n",
      "  (0, 266)\t1\n",
      "  (0, 1065)\t2\n",
      "  (0, 205)\t2\n",
      "  (0, 2577)\t1\n",
      "  (0, 1097)\t1\n",
      "  (0, 1744)\t2\n",
      "  (0, 1287)\t1\n"
     ]
    }
   ],
   "source": [
    "#Bigram:\n",
    "count_vect = CountVectorizer(ngram_range=(1,2),min_df=20)\n",
    "Bigram_data_text = count_vect.fit_transform(Final_X)\n",
    "print(Bigram_data_text[1])"
   ]
  },
  {
   "cell_type": "code",
   "execution_count": 82,
   "metadata": {},
   "outputs": [],
   "source": [
    "#Converting its output in df:\n",
    "count_vect_df_bigram = pd.DataFrame(Bigram_data_text.todense(), columns=count_vect.get_feature_names())"
   ]
  },
  {
   "cell_type": "code",
   "execution_count": 83,
   "metadata": {},
   "outputs": [],
   "source": [
    "#Merging the two dataframes:\n",
    "df2.index = count_vect_df_bigram.index\n",
    "df3_bigram_merged = pd.merge(df2, count_vect_df_bigram, left_index=True, right_index=True)"
   ]
  },
  {
   "cell_type": "code",
   "execution_count": 84,
   "metadata": {},
   "outputs": [],
   "source": [
    "#Converting score column to dummies:\n",
    "df3_bigram = pd.get_dummies(df3_bigram_merged,columns=['Score'])"
   ]
  },
  {
   "cell_type": "code",
   "execution_count": 85,
   "metadata": {},
   "outputs": [],
   "source": [
    "#Creating X and Y\n",
    "X = df3_bigram.drop(columns=['Id','ProductId','UserId','ProfileName','HelpfulnessNumerator',\\\n",
    "                    'HelpfulnessDenominator','Time','Summary','Text','Useful','helpfulness'])\n",
    "Y = df3_bigram.Useful"
   ]
  },
  {
   "cell_type": "code",
   "execution_count": 86,
   "metadata": {},
   "outputs": [],
   "source": [
    "#Splitting data into train and test\n",
    "X_train,X_test,Y_training,Y_test = train_test_split(X,Y,test_size = 0.3,random_state=0)"
   ]
  },
  {
   "cell_type": "code",
   "execution_count": 87,
   "metadata": {},
   "outputs": [],
   "source": [
    "#Running logistics regression:\n",
    "logreg_BG = LogisticRegression(C=1e5) \n",
    "logreg_result_BG = logreg_BG.fit(X_train, Y_training) \n",
    "y_pred_BG = logreg_result_BG.predict(X_test)"
   ]
  },
  {
   "cell_type": "code",
   "execution_count": 88,
   "metadata": {},
   "outputs": [
    {
     "data": {
      "text/html": [
       "<div>\n",
       "<style scoped>\n",
       "    .dataframe tbody tr th:only-of-type {\n",
       "        vertical-align: middle;\n",
       "    }\n",
       "\n",
       "    .dataframe tbody tr th {\n",
       "        vertical-align: top;\n",
       "    }\n",
       "\n",
       "    .dataframe thead th {\n",
       "        text-align: right;\n",
       "    }\n",
       "</style>\n",
       "<table border=\"1\" class=\"dataframe\">\n",
       "  <thead>\n",
       "    <tr style=\"text-align: right;\">\n",
       "      <th></th>\n",
       "      <th>feature</th>\n",
       "      <th>coef</th>\n",
       "    </tr>\n",
       "  </thead>\n",
       "  <tbody>\n",
       "    <tr>\n",
       "      <th>1592</th>\n",
       "      <td>money buy</td>\n",
       "      <td>-11.35</td>\n",
       "    </tr>\n",
       "    <tr>\n",
       "      <th>2971</th>\n",
       "      <td>Score_2</td>\n",
       "      <td>-10.37</td>\n",
       "    </tr>\n",
       "    <tr>\n",
       "      <th>1983</th>\n",
       "      <td>professional</td>\n",
       "      <td>-10.06</td>\n",
       "    </tr>\n",
       "    <tr>\n",
       "      <th>116</th>\n",
       "      <td>anyway</td>\n",
       "      <td>-9.85</td>\n",
       "    </tr>\n",
       "    <tr>\n",
       "      <th>115</th>\n",
       "      <td>anytime</td>\n",
       "      <td>-9.62</td>\n",
       "    </tr>\n",
       "  </tbody>\n",
       "</table>\n",
       "</div>"
      ],
      "text/plain": [
       "           feature   coef\n",
       "1592     money buy -11.35\n",
       "2971       Score_2 -10.37\n",
       "1983  professional -10.06\n",
       "116         anyway  -9.85\n",
       "115        anytime  -9.62"
      ]
     },
     "execution_count": 88,
     "metadata": {},
     "output_type": "execute_result"
    }
   ],
   "source": [
    "#Getting the log reg coefficients:\n",
    "feature_coefs = pd.DataFrame( data = list(zip(X.columns, logreg_result_BG.coef_[0])),columns = ['feature', 'coef']) \n",
    "feature_coefs.sort_values(by='coef').head(5)"
   ]
  },
  {
   "cell_type": "code",
   "execution_count": 89,
   "metadata": {},
   "outputs": [
    {
     "data": {
      "text/plain": [
       "0.8040752351097179"
      ]
     },
     "execution_count": 89,
     "metadata": {},
     "output_type": "execute_result"
    }
   ],
   "source": [
    "# Accuracy:\n",
    "1 - (y_pred_BG - Y_test ).abs().mean()"
   ]
  },
  {
   "cell_type": "code",
   "execution_count": 90,
   "metadata": {},
   "outputs": [
    {
     "data": {
      "text/plain": [
       "GridSearchCV(cv=5, error_score='raise-deprecating',\n",
       "       estimator=LogisticRegression(C=1.0, class_weight=None, dual=False, fit_intercept=True,\n",
       "          intercept_scaling=1, max_iter=100, multi_class='warn',\n",
       "          n_jobs=None, penalty='l2', random_state=None, solver='warn',\n",
       "          tol=0.0001, verbose=0, warm_start=False),\n",
       "       fit_params=None, iid='warn', n_jobs=None,\n",
       "       param_grid={'C': [0.001, 0.01, 0.1, 1, 10]},\n",
       "       pre_dispatch='2*n_jobs', refit=True, return_train_score='warn',\n",
       "       scoring=None, verbose=0)"
      ]
     },
     "execution_count": 90,
     "metadata": {},
     "output_type": "execute_result"
    },
    {
     "name": "stdout",
     "output_type": "stream",
     "text": [
      "Best cross-validation score: 0.88\n",
      "Best parameters:  {'C': 0.1}\n",
      "Best estimator:  LogisticRegression(C=0.1, class_weight=None, dual=False, fit_intercept=True,\n",
      "          intercept_scaling=1, max_iter=100, multi_class='warn',\n",
      "          n_jobs=None, penalty='l2', random_state=None, solver='warn',\n",
      "          tol=0.0001, verbose=0, warm_start=False)\n"
     ]
    }
   ],
   "source": [
    "param_grid = {'C': [0.001, 0.01, 0.1, 1, 10]}\n",
    "grid = GridSearchCV(LogisticRegression(), param_grid, cv=5)\n",
    "grid.fit(X_train, Y_training)\n",
    "\n",
    "print(\"Best cross-validation score: {:.2f}\".format(grid.best_score_))\n",
    "print(\"Best parameters: \", grid.best_params_)\n",
    "print(\"Best estimator: \", grid.best_estimator_)"
   ]
  },
  {
   "cell_type": "code",
   "execution_count": 91,
   "metadata": {},
   "outputs": [
    {
     "data": {
      "image/png": "[encoded data removed]",
      "text/plain": [
       "<Figure size 1080x360 with 1 Axes>"
      ]
     },
     "metadata": {
      "needs_background": "light"
     },
     "output_type": "display_data"
    }
   ],
   "source": [
    "mglearn.tools.visualize_coefficients(grid.best_estimator_.coef_, X.columns, n_top_features=30)\n",
    "plt.show()"
   ]
  },
  {
   "cell_type": "markdown",
   "metadata": {},
   "source": [
    "The above graph indicates that score (1,2,3,4,5) have are extremely important features along with words such as deliver, great, stale etc."
   ]
  },
  {
   "cell_type": "markdown",
   "metadata": {},
   "source": [
    "__VI. INTERPRETATION:__"
   ]
  },
  {
   "cell_type": "markdown",
   "metadata": {},
   "source": [
    "__Analyzing the features:__"
   ]
  },
  {
   "cell_type": "markdown",
   "metadata": {},
   "source": [
    "__Part 1: Feature : SCORE__\n",
    "\n",
    "From the analysis done above, it can be inferred that, with __increase in the product rating, the usefulness increases__. However, this seems to be __counterintuitive__ as extreme product rating(1,5) should also have indicated high usefulness.\n",
    "\n",
    "For Eg: The review with product rating '1' indicates a strong opinion about the purchase made, thus helping the customer reading the review make an informed decision. This is synonymous in terms of <b>helpfulness</b> with a review with product rating '5'.\n",
    "\n",
    "This can be because customers are biased towards marking a review as not useful when they perceive the product quality to be low. This indicates that there is a correlation between the usefulness indicator and product quality"
   ]
  },
  {
   "cell_type": "markdown",
   "metadata": {},
   "source": [
    "The score feature can be validated using the seaborn plot:"
   ]
  },
  {
   "cell_type": "code",
   "execution_count": 92,
   "metadata": {
    "scrolled": false
   },
   "outputs": [
    {
     "data": {
      "text/plain": [
       "<seaborn.axisgrid.FacetGrid at 0x1c5bcf1470>"
      ]
     },
     "execution_count": 92,
     "metadata": {},
     "output_type": "execute_result"
    },
    {
     "data": {
      "image/png": "[encoded data removed]",
      "text/plain": [
       "<Figure size 900x360 with 1 Axes>"
      ]
     },
     "metadata": {
      "needs_background": "light"
     },
     "output_type": "display_data"
    }
   ],
   "source": [
    "sns.catplot(data=df3_bigram_merged, y = 'Useful',x='Score',\n",
    "           kind = 'bar',aspect=2.5)"
   ]
  },
  {
   "cell_type": "markdown",
   "metadata": {},
   "source": [
    "#### Part 2: \n",
    "<li> Though in general the trend for Usefulness for lower ratings (1,2,3) is decreasing, we look at some of the top features to confirm if they follow the same pattern"
   ]
  },
  {
   "cell_type": "markdown",
   "metadata": {},
   "source": [
    "<li> Getting the average usefulness of some of the top features (great,best,suppose) for each score/ratings"
   ]
  },
  {
   "cell_type": "code",
   "execution_count": 93,
   "metadata": {},
   "outputs": [],
   "source": [
    "df_Final = df3_bigram_merged[['Score','Useful','great','best','suppose']]\n",
    "df_Final['Binned_Score_less_than_3'] = (df_Final.Score <= 3 ) * 1"
   ]
  },
  {
   "cell_type": "code",
   "execution_count": 94,
   "metadata": {},
   "outputs": [
    {
     "data": {
      "text/plain": [
       "great  Score\n",
       "0      1        0.15\n",
       "       2        0.23\n",
       "       3        0.36\n",
       "       4        0.82\n",
       "       5        0.93\n",
       "1      1        0.23\n",
       "       2        0.25\n",
       "       3        0.45\n",
       "       4        0.95\n",
       "       5        0.98\n",
       "Name: Useful, dtype: float64"
      ]
     },
     "execution_count": 94,
     "metadata": {},
     "output_type": "execute_result"
    }
   ],
   "source": [
    "df_1 = df_Final[(df_Final.great < 2 )]\n",
    "df_1.groupby(['great','Score'])['Useful'].mean()"
   ]
  },
  {
   "cell_type": "code",
   "execution_count": 95,
   "metadata": {},
   "outputs": [
    {
     "data": {
      "text/plain": [
       "best  Score\n",
       "0     1        0.15\n",
       "      2        0.23\n",
       "      3        0.38\n",
       "      4        0.84\n",
       "      5        0.93\n",
       "1     1        0.32\n",
       "      2        0.24\n",
       "      3        0.38\n",
       "      4        0.94\n",
       "      5        0.97\n",
       "Name: Useful, dtype: float64"
      ]
     },
     "execution_count": 95,
     "metadata": {},
     "output_type": "execute_result"
    }
   ],
   "source": [
    "df_2 = df_Final[(df_Final.best < 2 )]\n",
    "df_2.groupby(['best','Score'])['Useful'].mean()"
   ]
  },
  {
   "cell_type": "code",
   "execution_count": 96,
   "metadata": {},
   "outputs": [
    {
     "data": {
      "text/plain": [
       "suppose  Score\n",
       "0        1        0.16\n",
       "         2        0.23\n",
       "         3        0.38\n",
       "         4        0.86\n",
       "         5        0.94\n",
       "1        1        0.14\n",
       "         2        0.09\n",
       "         3        0.29\n",
       "         4        0.69\n",
       "         5        0.98\n",
       "Name: Useful, dtype: float64"
      ]
     },
     "execution_count": 96,
     "metadata": {},
     "output_type": "execute_result"
    }
   ],
   "source": [
    "df_3 = df_Final[(df_Final.suppose < 2 )]\n",
    "df_3.groupby(['suppose','Score'])['Useful'].mean()"
   ]
  },
  {
   "cell_type": "markdown",
   "metadata": {},
   "source": [
    "__VII. FINDING AND VALIDATION OF FINDING:__"
   ]
  },
  {
   "cell_type": "markdown",
   "metadata": {},
   "source": [
    "\n",
    "<ul>\n",
    "<li> If the rating is greater than 4, the appearance of any word does not significantly impact the usefulness </li>\n",
    "<li> However, if the review has opinion words  like 'great','best' etc., then with the appearance of the words, the usefulness seems to increase even if the product rating provided is lower </li>\n",
    "<li> Also, if the words are neutral and ambiguous like 'suppose','anyway' etc. the usefulness seems to decrease with the appearance of the word"
   ]
  },
  {
   "cell_type": "markdown",
   "metadata": {},
   "source": [
    "The following graphs can validate the above finding:"
   ]
  },
  {
   "cell_type": "code",
   "execution_count": 97,
   "metadata": {},
   "outputs": [
    {
     "data": {
      "text/plain": [
       "<seaborn.axisgrid.FacetGrid at 0x1c3bd3c6d8>"
      ]
     },
     "execution_count": 97,
     "metadata": {},
     "output_type": "execute_result"
    },
    {
     "data": {
      "image/png": "[encoded data removed]",
      "text/plain": [
       "<Figure size 1039.5x360 with 1 Axes>"
      ]
     },
     "metadata": {
      "needs_background": "light"
     },
     "output_type": "display_data"
    }
   ],
   "source": [
    "sns.catplot(data=df_2, y = 'Useful',x='best',\n",
    "           kind = 'bar',aspect=2.5, hue = 'Binned_Score_less_than_3')"
   ]
  },
  {
   "cell_type": "code",
   "execution_count": 98,
   "metadata": {
    "scrolled": false
   },
   "outputs": [
    {
     "data": {
      "text/plain": [
       "<seaborn.axisgrid.FacetGrid at 0x1c31572358>"
      ]
     },
     "execution_count": 98,
     "metadata": {},
     "output_type": "execute_result"
    },
    {
     "data": {
      "image/png": "[encoded data removed]",
      "text/plain": [
       "<Figure size 1039.5x360 with 1 Axes>"
      ]
     },
     "metadata": {
      "needs_background": "light"
     },
     "output_type": "display_data"
    }
   ],
   "source": [
    "sns.catplot(data=df_1, y = 'Useful',x='great',\n",
    "           kind = 'bar',aspect=2.5, hue = 'Binned_Score_less_than_3')"
   ]
  },
  {
   "cell_type": "code",
   "execution_count": 99,
   "metadata": {
    "scrolled": false
   },
   "outputs": [
    {
     "data": {
      "text/plain": [
       "<seaborn.axisgrid.FacetGrid at 0x1c32f9bc18>"
      ]
     },
     "execution_count": 99,
     "metadata": {},
     "output_type": "execute_result"
    },
    {
     "data": {
      "image/png": "[encoded data removed]",
      "text/plain": [
       "<Figure size 1039.5x360 with 1 Axes>"
      ]
     },
     "metadata": {
      "needs_background": "light"
     },
     "output_type": "display_data"
    }
   ],
   "source": [
    "sns.catplot(data=df_3, y = 'Useful',x='suppose',\n",
    "           kind = 'bar',aspect=2.5, hue = 'Binned_Score_less_than_3')"
   ]
  },
  {
   "cell_type": "markdown",
   "metadata": {},
   "source": [
    "__VIII. MANAGERIAL INSIGHTS:__"
   ]
  },
  {
   "cell_type": "markdown",
   "metadata": {},
   "source": [
    "<ul>\n",
    "    <li> Using the above finding, the positioning of the reviews can be changed so that they are most useful to the customers and can help customers make an informed purchase decision.</li>\n",
    "    <li> For Eg: The reviews with highest rating and the ones which consists of superlative words should be displayed on the top</li>\n",
    "    <li>As the customers are correlating the helpfulness and bad product rating, the option to vote 'Not helpful' should be removed as it is resulting in biased information."
   ]
  }
 ],
 "metadata": {
  "kernelspec": {
   "display_name": "Python 3",
   "language": "python",
   "name": "python3"
  },
  "language_info": {
   "codemirror_mode": {
    "name": "ipython",
    "version": 3
   },
   "file_extension": ".py",
   "mimetype": "text/x-python",
   "name": "python",
   "nbconvert_exporter": "python",
   "pygments_lexer": "ipython3",
   "version": "3.7.1"
  }
 },
 "nbformat": 4,
 "nbformat_minor": 2
}
